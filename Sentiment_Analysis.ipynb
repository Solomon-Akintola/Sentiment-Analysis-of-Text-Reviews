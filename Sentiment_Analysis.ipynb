{
 "cells": [
  {
   "cell_type": "markdown",
   "id": "b60a03c2",
   "metadata": {},
   "source": [
    "# Sentiment Analysis of Reviews\n",
    "\n",
    "This project performs sentiment analysis on a dataset of reviews using the VADER (Valence Aware Dictionary and Sentiment Reasoner) sentiment analysis tool from the Natural Language Toolkit (nltk). The script computes sentiment scores for each review and classifies them as Positive, Negative, or Neutral. Finally, it visualizes the distribution of these sentiment labels.\n",
    "\n",
    "\n",
    "### Data Source\n",
    "\n",
    "The dataset used in this project is sourced from a CSV file available at the following URL:\n",
    "[https://raw.githubusercontent.com/amankharwal/Website-data/master/reviews%20data.csv](https://raw.githubusercontent.com/amankharwal/Website-data/master/reviews%20data.csv).\n",
    "\n",
    "#### Overview\n",
    "\n",
    "This dataset contains a collection of reviews, which are textual data points where users have expressed their opinions. Each row in the dataset represents a single review.\n",
    "\n",
    "#### Structure\n",
    "\n",
    "While the exact structure of the dataset can be confirmed by loading and examining the data, typically, such datasets contain columns like:\n",
    "- **Review**: The text of the review, containing the opinion or feedback provided by a user.\n",
    "\n",
    "#### Purpose\n",
    "\n",
    "This dataset is used to perform sentiment analysis, which involves:\n",
    "1. **Analyzing** the sentiment expressed in each review.\n",
    "2. **Classifying** each review as Positive, Negative, or Neutral based on the sentiment scores computed using the VADER sentiment analysis tool.\n",
    "\n",
    "#### Applications\n",
    "\n",
    "Sentiment analysis on such datasets can be used in various applications, including:\n",
    "- **Customer Feedback Analysis**: Understanding customer satisfaction and areas for improvement.\n",
    "- **Market Research**: Gauging public opinion about products or services.\n",
    "- **Social Media Monitoring**: Tracking brand sentiment on platforms like Twitter or Facebook."
   ]
  },
  {
   "cell_type": "code",
   "execution_count": 1,
   "id": "f3688d6b",
   "metadata": {
    "scrolled": true
   },
   "outputs": [
    {
     "name": "stderr",
     "output_type": "stream",
     "text": [
      "[nltk_data] Downloading package vader_lexicon to\n",
      "[nltk_data]     /Users/mac/nltk_data...\n",
      "[nltk_data]   Package vader_lexicon is already up-to-date!\n"
     ]
    },
    {
     "data": {
      "text/html": [
       "<div>\n",
       "<style scoped>\n",
       "    .dataframe tbody tr th:only-of-type {\n",
       "        vertical-align: middle;\n",
       "    }\n",
       "\n",
       "    .dataframe tbody tr th {\n",
       "        vertical-align: top;\n",
       "    }\n",
       "\n",
       "    .dataframe thead th {\n",
       "        text-align: right;\n",
       "    }\n",
       "</style>\n",
       "<table border=\"1\" class=\"dataframe\">\n",
       "  <thead>\n",
       "    <tr style=\"text-align: right;\">\n",
       "      <th></th>\n",
       "      <th>Review</th>\n",
       "    </tr>\n",
       "  </thead>\n",
       "  <tbody>\n",
       "    <tr>\n",
       "      <th>0</th>\n",
       "      <td>nice hotel expensive parking got good deal sta...</td>\n",
       "    </tr>\n",
       "    <tr>\n",
       "      <th>1</th>\n",
       "      <td>ok nothing special charge diamond member hilto...</td>\n",
       "    </tr>\n",
       "    <tr>\n",
       "      <th>2</th>\n",
       "      <td>nice rooms not 4* experience hotel monaco seat...</td>\n",
       "    </tr>\n",
       "    <tr>\n",
       "      <th>3</th>\n",
       "      <td>unique, great stay, wonderful time hotel monac...</td>\n",
       "    </tr>\n",
       "    <tr>\n",
       "      <th>4</th>\n",
       "      <td>great stay great stay, went seahawk game aweso...</td>\n",
       "    </tr>\n",
       "    <tr>\n",
       "      <th>5</th>\n",
       "      <td>love monaco staff husband stayed hotel crazy w...</td>\n",
       "    </tr>\n",
       "    <tr>\n",
       "      <th>6</th>\n",
       "      <td>cozy stay rainy city, husband spent 7 nights m...</td>\n",
       "    </tr>\n",
       "    <tr>\n",
       "      <th>7</th>\n",
       "      <td>excellent staff, housekeeping quality hotel ch...</td>\n",
       "    </tr>\n",
       "    <tr>\n",
       "      <th>8</th>\n",
       "      <td>hotel stayed hotel monaco cruise, rooms genero...</td>\n",
       "    </tr>\n",
       "    <tr>\n",
       "      <th>9</th>\n",
       "      <td>excellent stayed hotel monaco past w/e delight...</td>\n",
       "    </tr>\n",
       "  </tbody>\n",
       "</table>\n",
       "</div>"
      ],
      "text/plain": [
       "                                              Review\n",
       "0  nice hotel expensive parking got good deal sta...\n",
       "1  ok nothing special charge diamond member hilto...\n",
       "2  nice rooms not 4* experience hotel monaco seat...\n",
       "3  unique, great stay, wonderful time hotel monac...\n",
       "4  great stay great stay, went seahawk game aweso...\n",
       "5  love monaco staff husband stayed hotel crazy w...\n",
       "6  cozy stay rainy city, husband spent 7 nights m...\n",
       "7  excellent staff, housekeeping quality hotel ch...\n",
       "8  hotel stayed hotel monaco cruise, rooms genero...\n",
       "9  excellent stayed hotel monaco past w/e delight..."
      ]
     },
     "execution_count": 1,
     "metadata": {},
     "output_type": "execute_result"
    }
   ],
   "source": [
    "# Import necessary libraries\n",
    "import nltk\n",
    "from nltk.sentiment.vader import SentimentIntensityAnalyzer\n",
    "import pandas as pd\n",
    "import matplotlib.pyplot as plt\n",
    "\n",
    "# Download the VADER lexicon\n",
    "nltk.download(\"vader_lexicon\")\n",
    "\n",
    "# Load the dataset from the specified URL\n",
    "url = \"https://raw.githubusercontent.com/amankharwal/Website-data/master/reviews%20data.csv\"\n",
    "df = pd.read_csv(url)\n",
    "\n",
    "# Drop any rows with missing values\n",
    "df = df.dropna()\n",
    "\n",
    "# Display the first few rows of the dataset\n",
    "df.head(10)"
   ]
  },
  {
   "cell_type": "code",
   "execution_count": 2,
   "id": "d318ac4d",
   "metadata": {},
   "outputs": [],
   "source": [
    "# Save the unlabelled dataset to a CSV file\n",
    "df.to_csv('unlabelled_dataset.csv', index=False)"
   ]
  },
  {
   "cell_type": "markdown",
   "id": "5b27e83b",
   "metadata": {},
   "source": [
    "### **Initialize the Sentiment Analyzer**:\n",
    "   - The `SentimentIntensityAnalyzer` from the VADER lexicon is initialized to analyze the sentiment of the text data."
   ]
  },
  {
   "cell_type": "code",
   "execution_count": 3,
   "id": "45d142b8",
   "metadata": {},
   "outputs": [],
   "source": [
    "# Initialize the Sentiment Analyzer\n",
    "sentiments = SentimentIntensityAnalyzer()"
   ]
  },
  {
   "cell_type": "markdown",
   "id": "b81cb6af",
   "metadata": {},
   "source": [
    "###  **Compute Sentiment Scores Add Sentiment Scores to the Dataset**:\n",
    "   - For each review in the dataset, the sentiment scores are computed. VADER provides four different scores. The computed sentiment scores for each review are added as new columns to the dataset.:\n",
    "     - **Positive** (`pos`): The proportion of the text that conveys a positive sentiment.\n",
    "     - **Negative** (`neg`): The proportion of the text that conveys a negative sentiment.\n",
    "     - **Neutral** (`neu`): The proportion of the text that is neutral.\n",
    "     - **Compound** (`compound`): A normalized, weighted composite score that aggregates the positive, negative, and neutral scores into a single metric ranging from -1 (extremely negative) to +1 (extremely positive)."
   ]
  },
  {
   "cell_type": "code",
   "execution_count": 4,
   "id": "c83e1013",
   "metadata": {},
   "outputs": [],
   "source": [
    "# Compute sentiment scores for each review\n",
    "df[\"Positive\"] = [sentiments.polarity_scores(review)[\"pos\"] for review in df[\"Review\"]]\n",
    "df[\"Negative\"] = [sentiments.polarity_scores(review)[\"neg\"] for review in df[\"Review\"]]\n",
    "df[\"Neutral\"] = [sentiments.polarity_scores(review)[\"neu\"] for review in df[\"Review\"]]\n",
    "df[\"Compound\"] = [sentiments.polarity_scores(review)[\"compound\"] for review in df[\"Review\"]]"
   ]
  },
  {
   "cell_type": "markdown",
   "id": "87ee086d",
   "metadata": {},
   "source": [
    "###  **Display the Updated Dataset**:\n",
    "   - The script prints the first few rows of the updated dataset, now including the sentiment scores."
   ]
  },
  {
   "cell_type": "code",
   "execution_count": 5,
   "id": "cd14ba07",
   "metadata": {
    "scrolled": true
   },
   "outputs": [
    {
     "data": {
      "text/html": [
       "<div>\n",
       "<style scoped>\n",
       "    .dataframe tbody tr th:only-of-type {\n",
       "        vertical-align: middle;\n",
       "    }\n",
       "\n",
       "    .dataframe tbody tr th {\n",
       "        vertical-align: top;\n",
       "    }\n",
       "\n",
       "    .dataframe thead th {\n",
       "        text-align: right;\n",
       "    }\n",
       "</style>\n",
       "<table border=\"1\" class=\"dataframe\">\n",
       "  <thead>\n",
       "    <tr style=\"text-align: right;\">\n",
       "      <th></th>\n",
       "      <th>Review</th>\n",
       "      <th>Positive</th>\n",
       "      <th>Negative</th>\n",
       "      <th>Neutral</th>\n",
       "      <th>Compound</th>\n",
       "    </tr>\n",
       "  </thead>\n",
       "  <tbody>\n",
       "    <tr>\n",
       "      <th>0</th>\n",
       "      <td>nice hotel expensive parking got good deal sta...</td>\n",
       "      <td>0.285</td>\n",
       "      <td>0.072</td>\n",
       "      <td>0.643</td>\n",
       "      <td>0.9747</td>\n",
       "    </tr>\n",
       "    <tr>\n",
       "      <th>1</th>\n",
       "      <td>ok nothing special charge diamond member hilto...</td>\n",
       "      <td>0.189</td>\n",
       "      <td>0.110</td>\n",
       "      <td>0.701</td>\n",
       "      <td>0.9787</td>\n",
       "    </tr>\n",
       "    <tr>\n",
       "      <th>2</th>\n",
       "      <td>nice rooms not 4* experience hotel monaco seat...</td>\n",
       "      <td>0.219</td>\n",
       "      <td>0.081</td>\n",
       "      <td>0.700</td>\n",
       "      <td>0.9889</td>\n",
       "    </tr>\n",
       "    <tr>\n",
       "      <th>3</th>\n",
       "      <td>unique, great stay, wonderful time hotel monac...</td>\n",
       "      <td>0.385</td>\n",
       "      <td>0.060</td>\n",
       "      <td>0.555</td>\n",
       "      <td>0.9912</td>\n",
       "    </tr>\n",
       "    <tr>\n",
       "      <th>4</th>\n",
       "      <td>great stay great stay, went seahawk game aweso...</td>\n",
       "      <td>0.221</td>\n",
       "      <td>0.135</td>\n",
       "      <td>0.643</td>\n",
       "      <td>0.9797</td>\n",
       "    </tr>\n",
       "    <tr>\n",
       "      <th>5</th>\n",
       "      <td>love monaco staff husband stayed hotel crazy w...</td>\n",
       "      <td>0.265</td>\n",
       "      <td>0.084</td>\n",
       "      <td>0.651</td>\n",
       "      <td>0.9870</td>\n",
       "    </tr>\n",
       "    <tr>\n",
       "      <th>6</th>\n",
       "      <td>cozy stay rainy city, husband spent 7 nights m...</td>\n",
       "      <td>0.364</td>\n",
       "      <td>0.026</td>\n",
       "      <td>0.609</td>\n",
       "      <td>0.9925</td>\n",
       "    </tr>\n",
       "    <tr>\n",
       "      <th>7</th>\n",
       "      <td>excellent staff, housekeeping quality hotel ch...</td>\n",
       "      <td>0.228</td>\n",
       "      <td>0.032</td>\n",
       "      <td>0.740</td>\n",
       "      <td>0.9590</td>\n",
       "    </tr>\n",
       "    <tr>\n",
       "      <th>8</th>\n",
       "      <td>hotel stayed hotel monaco cruise, rooms genero...</td>\n",
       "      <td>0.298</td>\n",
       "      <td>0.038</td>\n",
       "      <td>0.663</td>\n",
       "      <td>0.9618</td>\n",
       "    </tr>\n",
       "    <tr>\n",
       "      <th>9</th>\n",
       "      <td>excellent stayed hotel monaco past w/e delight...</td>\n",
       "      <td>0.484</td>\n",
       "      <td>0.064</td>\n",
       "      <td>0.451</td>\n",
       "      <td>0.9756</td>\n",
       "    </tr>\n",
       "  </tbody>\n",
       "</table>\n",
       "</div>"
      ],
      "text/plain": [
       "                                              Review  Positive  Negative  \\\n",
       "0  nice hotel expensive parking got good deal sta...     0.285     0.072   \n",
       "1  ok nothing special charge diamond member hilto...     0.189     0.110   \n",
       "2  nice rooms not 4* experience hotel monaco seat...     0.219     0.081   \n",
       "3  unique, great stay, wonderful time hotel monac...     0.385     0.060   \n",
       "4  great stay great stay, went seahawk game aweso...     0.221     0.135   \n",
       "5  love monaco staff husband stayed hotel crazy w...     0.265     0.084   \n",
       "6  cozy stay rainy city, husband spent 7 nights m...     0.364     0.026   \n",
       "7  excellent staff, housekeeping quality hotel ch...     0.228     0.032   \n",
       "8  hotel stayed hotel monaco cruise, rooms genero...     0.298     0.038   \n",
       "9  excellent stayed hotel monaco past w/e delight...     0.484     0.064   \n",
       "\n",
       "   Neutral  Compound  \n",
       "0    0.643    0.9747  \n",
       "1    0.701    0.9787  \n",
       "2    0.700    0.9889  \n",
       "3    0.555    0.9912  \n",
       "4    0.643    0.9797  \n",
       "5    0.651    0.9870  \n",
       "6    0.609    0.9925  \n",
       "7    0.740    0.9590  \n",
       "8    0.663    0.9618  \n",
       "9    0.451    0.9756  "
      ]
     },
     "execution_count": 5,
     "metadata": {},
     "output_type": "execute_result"
    }
   ],
   "source": [
    "# Display the first 10 rows of the updated dataset\n",
    "df.head(10)"
   ]
  },
  {
   "cell_type": "markdown",
   "id": "df3d63ef",
   "metadata": {},
   "source": [
    "## This part of the script assigns a sentiment label (Positive, Negative, or Neutral) to each review based on the compound sentiment score."
   ]
  },
  {
   "cell_type": "markdown",
   "id": "69fdac5c",
   "metadata": {},
   "source": [
    "### **Extract Compound Scores**:\n",
    "   - The compound scores from the dataset are extracted into a separate list for processing."
   ]
  },
  {
   "cell_type": "code",
   "execution_count": 6,
   "id": "289b4fbb",
   "metadata": {},
   "outputs": [],
   "source": [
    "# Extract compound scores\n",
    "scores = df[\"Compound\"].values"
   ]
  },
  {
   "cell_type": "markdown",
   "id": "7d7f739a",
   "metadata": {},
   "source": [
    "### **Assign Sentiment Labels**:\n",
    "   - For each compound score:\n",
    "     - If the score is greater than or equal to 0.05, the sentiment is labeled as \"Positive\".\n",
    "     - If the score is less than or equal to -0.05, the sentiment is labeled as \"Negative\".\n",
    "     - If the score is between -0.05 and 0.05, the sentiment is labeled as \"Neutral\"."
   ]
  },
  {
   "cell_type": "code",
   "execution_count": 7,
   "id": "5673ad9b",
   "metadata": {},
   "outputs": [],
   "source": [
    "# Initialize a list to store sentiment labels\n",
    "sentiment = []\n",
    "\n",
    "# Assign sentiment labels based on the compound score\n",
    "for score in scores:\n",
    "    if score >= 0.05:\n",
    "        sentiment.append('Positive')\n",
    "    elif score <= -0.05:\n",
    "        sentiment.append('Negative')\n",
    "    else:\n",
    "        sentiment.append('Neutral')"
   ]
  },
  {
   "cell_type": "markdown",
   "id": "ea74fbbe",
   "metadata": {},
   "source": [
    "### **Add Sentiment Labels to the Dataset**:\n",
    "   - The sentiment labels are added as a new column in the dataset."
   ]
  },
  {
   "cell_type": "code",
   "execution_count": 8,
   "id": "5e775900",
   "metadata": {
    "scrolled": true
   },
   "outputs": [
    {
     "data": {
      "text/html": [
       "<div>\n",
       "<style scoped>\n",
       "    .dataframe tbody tr th:only-of-type {\n",
       "        vertical-align: middle;\n",
       "    }\n",
       "\n",
       "    .dataframe tbody tr th {\n",
       "        vertical-align: top;\n",
       "    }\n",
       "\n",
       "    .dataframe thead th {\n",
       "        text-align: right;\n",
       "    }\n",
       "</style>\n",
       "<table border=\"1\" class=\"dataframe\">\n",
       "  <thead>\n",
       "    <tr style=\"text-align: right;\">\n",
       "      <th></th>\n",
       "      <th>Review</th>\n",
       "      <th>Positive</th>\n",
       "      <th>Negative</th>\n",
       "      <th>Neutral</th>\n",
       "      <th>Compound</th>\n",
       "      <th>Sentiment</th>\n",
       "    </tr>\n",
       "  </thead>\n",
       "  <tbody>\n",
       "    <tr>\n",
       "      <th>0</th>\n",
       "      <td>nice hotel expensive parking got good deal sta...</td>\n",
       "      <td>0.285</td>\n",
       "      <td>0.072</td>\n",
       "      <td>0.643</td>\n",
       "      <td>0.9747</td>\n",
       "      <td>Positive</td>\n",
       "    </tr>\n",
       "    <tr>\n",
       "      <th>1</th>\n",
       "      <td>ok nothing special charge diamond member hilto...</td>\n",
       "      <td>0.189</td>\n",
       "      <td>0.110</td>\n",
       "      <td>0.701</td>\n",
       "      <td>0.9787</td>\n",
       "      <td>Positive</td>\n",
       "    </tr>\n",
       "    <tr>\n",
       "      <th>2</th>\n",
       "      <td>nice rooms not 4* experience hotel monaco seat...</td>\n",
       "      <td>0.219</td>\n",
       "      <td>0.081</td>\n",
       "      <td>0.700</td>\n",
       "      <td>0.9889</td>\n",
       "      <td>Positive</td>\n",
       "    </tr>\n",
       "    <tr>\n",
       "      <th>3</th>\n",
       "      <td>unique, great stay, wonderful time hotel monac...</td>\n",
       "      <td>0.385</td>\n",
       "      <td>0.060</td>\n",
       "      <td>0.555</td>\n",
       "      <td>0.9912</td>\n",
       "      <td>Positive</td>\n",
       "    </tr>\n",
       "    <tr>\n",
       "      <th>4</th>\n",
       "      <td>great stay great stay, went seahawk game aweso...</td>\n",
       "      <td>0.221</td>\n",
       "      <td>0.135</td>\n",
       "      <td>0.643</td>\n",
       "      <td>0.9797</td>\n",
       "      <td>Positive</td>\n",
       "    </tr>\n",
       "  </tbody>\n",
       "</table>\n",
       "</div>"
      ],
      "text/plain": [
       "                                              Review  Positive  Negative  \\\n",
       "0  nice hotel expensive parking got good deal sta...     0.285     0.072   \n",
       "1  ok nothing special charge diamond member hilto...     0.189     0.110   \n",
       "2  nice rooms not 4* experience hotel monaco seat...     0.219     0.081   \n",
       "3  unique, great stay, wonderful time hotel monac...     0.385     0.060   \n",
       "4  great stay great stay, went seahawk game aweso...     0.221     0.135   \n",
       "\n",
       "   Neutral  Compound Sentiment  \n",
       "0    0.643    0.9747  Positive  \n",
       "1    0.701    0.9787  Positive  \n",
       "2    0.700    0.9889  Positive  \n",
       "3    0.555    0.9912  Positive  \n",
       "4    0.643    0.9797  Positive  "
      ]
     },
     "execution_count": 8,
     "metadata": {},
     "output_type": "execute_result"
    }
   ],
   "source": [
    "# Add sentiment labels to the dataset\n",
    "df[\"Sentiment\"] = sentiment\n",
    "\n",
    "\n",
    "\n",
    "# Display the first few rows of the updated dataset\n",
    "df.head()"
   ]
  },
  {
   "cell_type": "code",
   "execution_count": 9,
   "id": "4d5b0e3a",
   "metadata": {},
   "outputs": [],
   "source": [
    "# Save the labelled dataset to a CSV file\n",
    "df.to_csv('labelled_dataset.csv', index=False)\n"
   ]
  },
  {
   "cell_type": "markdown",
   "id": "79975c11",
   "metadata": {},
   "source": [
    "## Count and Visualize Sentiment Labels"
   ]
  },
  {
   "cell_type": "code",
   "execution_count": 10,
   "id": "b8115972",
   "metadata": {},
   "outputs": [
    {
     "name": "stdout",
     "output_type": "stream",
     "text": [
      "Positive    18831\n",
      "Negative     1569\n",
      "Neutral        91\n",
      "Name: Sentiment, dtype: int64\n"
     ]
    },
    {
     "data": {
      "image/png": "[encoded data removed]",
      "text/plain": [
       "<Figure size 640x480 with 1 Axes>"
      ]
     },
     "metadata": {},
     "output_type": "display_data"
    }
   ],
   "source": [
    "# Counts each sentiment category\n",
    "Sentiment_counts = df[\"Sentiment\"].value_counts()\n",
    "\n",
    "# Print the counts\n",
    "print(Sentiment_counts)\n",
    "\n",
    "# Visualize the sentiment distribution\n",
    "sentiment_counts = df[\"Sentiment\"].value_counts()\n",
    "sentiment_counts.plot(kind='bar', color=['green', 'red', 'blue'])\n",
    "\n",
    "plt.title('Sentiment Analysis of Reviews')\n",
    "plt.xlabel('Sentiment')\n",
    "plt.ylabel('Number of Reviews')\n",
    "plt.xticks(rotation=0)\n",
    "plt.show()"
   ]
  }
 ],
 "metadata": {
  "kernelspec": {
   "display_name": "Python 3 (ipykernel)",
   "language": "python",
   "name": "python3"
  },
  "language_info": {
   "codemirror_mode": {
    "name": "ipython",
    "version": 3
   },
   "file_extension": ".py",
   "mimetype": "text/x-python",
   "name": "python",
   "nbconvert_exporter": "python",
   "pygments_lexer": "ipython3",
   "version": "3.10.9"
  }
 },
 "nbformat": 4,
 "nbformat_minor": 5
}
